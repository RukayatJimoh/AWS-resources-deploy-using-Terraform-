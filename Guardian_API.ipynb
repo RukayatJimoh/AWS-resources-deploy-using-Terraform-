{
 "cells": [
  {
   "cell_type": "code",
   "execution_count": null,
   "metadata": {},
   "outputs": [],
   "source": [
    "\n",
    "%pip install requests\n",
    "%pip install pandas\n",
    "%pip install boto3\n",
    "%pip install awswrangler"
   ]
  },
  {
   "cell_type": "code",
   "execution_count": 2,
   "metadata": {},
   "outputs": [],
   "source": [
    "import requests\n",
    "import pandas as pd\n",
    "import boto3\n",
    "import awswrangler as wr\n",
    "\n"
   ]
  },
  {
   "cell_type": "code",
   "execution_count": 27,
   "metadata": {},
   "outputs": [],
   "source": [
    "#defining a function to retrieve a stored API KEY from AWS System manager\n",
    "def get_parameter(parameter_name, region):\n",
    "    client = boto3.client('ssm', region_name=region)\n",
    "    parameter_response = client.get_parameter(Name=parameter_name)\n",
    "    return parameter_response[\"Parameter\"][\"Value\"]"
   ]
  },
  {
   "cell_type": "code",
   "execution_count": null,
   "metadata": {},
   "outputs": [],
   "source": [
    "api_key = get_parameter('bimmy_API_key','eu-central-1')\n",
    "api_key"
   ]
  },
  {
   "cell_type": "code",
   "execution_count": null,
   "metadata": {},
   "outputs": [],
   "source": [
    "def GuardianAPI(base_url, total_pages:range, search_keyword:str, date_range, my_key: str,):\n",
    "    \"\"\"\n",
    "    This function makes a call to guardian API based on the number of pages specified.\n",
    "    It saves the articles into an empty list, which is later converted into a dataframe.\n",
    "    \n",
    "    Arguments: \n",
    "        base_url: valid base_url from the guardian documentation: https://open-platform.theguardian.com/documentation/\n",
    "        total_pages: a valid object range, e.g range(1,4)\n",
    "        search_keyword: the keywords to search as part of the call\n",
    "        date_range: date range - check the Guardian documentation on how to specify the date range\n",
    "        api_key: a valid personal API key \"\"\"\n",
    "    full_movies = []\n",
    "    for page in total_pages:\n",
    "        full_endpoint = f\"{base_url}?page={page}&q={search_keyword}&{date_range}&api-key={api_key}\"\n",
    "        output = requests.get(url = full_endpoint)\n",
    "        if output.status_code != 200:\n",
    "            raise Exception(f\"the dataset is not found due to status code is {output.status_code}\")\n",
    "            for entries in raw_movies.json()['response']['results']:\n",
    "                full_movies.append(entries)\n",
    "    movies_dataset = pd.DataFrame.from_records(full_movies)\n",
    "    return movies_dataset"
   ]
  },
  {
   "cell_type": "code",
   "execution_count": null,
   "metadata": {},
   "outputs": [],
   "source": [
    "GuardianAPI(\n",
    "    \"https://content.guardianapis.com\",\n",
    "    range(1,586),\n",
    "    \"movies\",\n",
    "    \"from-date=2020-04-16&to-date=2024-04-16\"\n",
    "    get_parameter('bimmy_API_key','eu-central-1'))"
   ]
  },
  {
   "cell_type": "code",
   "execution_count": null,
   "metadata": {},
   "outputs": [],
   "source": [
    "#storing dataset into s3 bucket in AWS \n",
    "def movies_to_load(destination, dataframe_name):\n",
    "    wr.s3.to_parquet(\n",
    "        df=dataframe_name,\n",
    "        path=destination\n",
    "        dataset=True)\n",
    "    \n",
    "movies_to_load(destination=\"s3://bimmy-module-bucket/GuardianMovies.parquet/\",\n",
    "               dataframe_name=movies_dataset)"
   ]
  }
 ],
 "metadata": {
  "kernelspec": {
   "display_name": "Python 3",
   "language": "python",
   "name": "python3"
  },
  "language_info": {
   "codemirror_mode": {
    "name": "ipython",
    "version": 3
   },
   "file_extension": ".py",
   "mimetype": "text/x-python",
   "name": "python",
   "nbconvert_exporter": "python",
   "pygments_lexer": "ipython3",
   "version": "3.12.2"
  }
 },
 "nbformat": 4,
 "nbformat_minor": 2
}
